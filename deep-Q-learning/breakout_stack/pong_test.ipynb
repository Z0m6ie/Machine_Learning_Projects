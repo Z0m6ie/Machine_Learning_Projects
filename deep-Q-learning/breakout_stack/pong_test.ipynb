{
 "cells": [
  {
   "cell_type": "code",
   "execution_count": 1,
   "metadata": {},
   "outputs": [
    {
     "name": "stderr",
     "output_type": "stream",
     "text": [
      "Using TensorFlow backend.\n"
     ]
    }
   ],
   "source": [
    "import numpy as np\n",
    "import random\n",
    "from PIL import Image\n",
    "from collections import deque\n",
    "from keras.models import Sequential\n",
    "from keras import initializers\n",
    "from keras.layers import Dense, Conv2D, Dropout, Flatten\n",
    "from keras.optimizers import Adam, Nadam, Adamax\n",
    "sizes = (80,80,4)\n",
    "\n",
    "class Agent:\n",
    "    def __init__(self, state_size, action_size):\n",
    "        self.state_size = state_size\n",
    "        self.action_size = action_size\n",
    "        self.memory = deque(maxlen=400000)\n",
    "        self.gamma = 0.99   # discount rate\n",
    "        self.epsilon = 1.0  # exploration rate\n",
    "        self.epsilon_min = 0.005  # exploration will not decay futher\n",
    "        self.epsilon_decay = 0.000015\n",
    "        self.learning_rate = 0.0001\n",
    "        self.loss = 0\n",
    "        self.model = self._build_model()\n",
    "        self.weight_backup = 'model_weights.h5'\n",
    "        self.old_I_2 = None\n",
    "        self.old_I_3 = None\n",
    "        self.old_I_4 = None\n",
    "        self.old_I_1 = None\n",
    "\n",
    "    def _build_model(self):\n",
    "        model = Sequential()\n",
    "        model.add(Conv2D(32, kernel_size=8, subsample=(4, 4), activation='relu', padding='same', input_shape= sizes))#80*80*4\n",
    "        model.add(Conv2D(64, kernel_size=4, subsample=(2, 2), activation='relu', padding='same'))\n",
    "        model.add(Conv2D(64, kernel_size=3, subsample=(1, 1), activation='relu', padding='same'))\n",
    "        model.add(Flatten())\n",
    "        model.add(Dense(256, activation='relu'))\n",
    "        model.add(Dense(self.action_size))\n",
    "        model.compile(loss='mse', optimizer=Adam(lr=self.learning_rate))\n",
    "        return model\n",
    "\n",
    "    \n",
    "    def save_model(self):\n",
    "            self.model.save(self.weight_backup)\n",
    "\n",
    "    def act(self, state):\n",
    "        if np.random.rand() <= self.epsilon:\n",
    "            return random.randrange(self.action_size)\n",
    "        else:\n",
    "            act_values = self.model.predict(state)\n",
    "            return np.argmax(act_values[0])\n",
    "    \n",
    "    def stack(self, processed_observation):\n",
    "        I_4 = self.old_I_3 if self.old_I_3 is not None else np.zeros((1, 80, 80))\n",
    "        #xxx = I_4.reshape(I_4.shape[1], I_4.shape[2])\n",
    "        #img = Image.fromarray(xxx, 'L')\n",
    "        #img.show()\n",
    "        I_3 = self.old_I_2 if self.old_I_2 is not None else np.zeros((1, 80, 80))\n",
    "        I_2 = self.old_I_1 if self.old_I_1 is not None else np.zeros((1, 80, 80))\n",
    "        I_1 = processed_observation\n",
    "        processed_stack = np.stack((I_4, I_3, I_2, I_1), axis = 3)\n",
    "        #print(processed_stack.shape)\n",
    "        self.old_I_4 = I_4\n",
    "        self.old_I_3 = I_3\n",
    "        self.old_I_2 = I_2\n",
    "        self.old_I_1 = I_1\n",
    "        return processed_stack\n",
    "\n",
    "    def remember(self, state, action, reward, new_state, done):\n",
    "        if len(self.memory) >= 400000:\n",
    "            self.memory.popleft()\n",
    "            self.memory.append([state, action, reward, new_state, done])\n",
    "        else:\n",
    "            self.memory.append([state, action, reward, new_state, done])    \n",
    "\n",
    "    def memory_replay(self, batch_size):\n",
    "        if len(self.memory) < batch_size:\n",
    "            return\n",
    "        else:\n",
    "            Sample = random.sample(self.memory, batch_size)\n",
    "            '''\n",
    "            winsample = [s for s in self.memory if s[2]== 1.0]\n",
    "            #print(winsample)\n",
    "            tuple(winsample)\n",
    "            if len(winsample) > 1:\n",
    "                Samplewin = random.sample(winsample, 1)\n",
    "                Sample += Samplewin\n",
    "            else:  \n",
    "                Sample += winsample\n",
    "            '''\n",
    "            inputs = np.zeros((len(Sample), state.shape[1], state.shape[2], state.shape[3])) # minibatch input\n",
    "            targets = np.zeros((inputs.shape[0], self.action_size))\n",
    "\n",
    "            for i in range(0, len(Sample)):\n",
    "                sample_state = Sample[i][0]\n",
    "                sample_action = Sample[i][1]\n",
    "                sample_reward = Sample[i][2]\n",
    "                sample_new_state = Sample[i][3]\n",
    "                sample_done = Sample[i][4]\n",
    "\n",
    "    #             xxx = sample_new_state.reshape(sample_new_state.shape[1], sample_new_state.shape[2])\n",
    "    #             img = Image.fromarray(xxx, 'L')\n",
    "    #             img.show()\n",
    "\n",
    "                inputs[i:i+1] = sample_state # slice of inputs setting = to state\n",
    "\n",
    "                targets[i] = self.model.predict(sample_state)\n",
    "                future_reward = self.model.predict(sample_new_state)\n",
    "\n",
    "                if sample_done:\n",
    "                    targets[i, sample_action] = sample_reward\n",
    "                #elif sample_reward == 1.0:\n",
    "                    #targets[i, sample_action] = sample_reward\n",
    "                #elif sample_reward == -1.0:\n",
    "                    #targets[i, sample_action] = sample_reward\n",
    "                else:\n",
    "                    targets[i, sample_action] = sample_reward + self.gamma * np.max(future_reward)\n",
    "                #print(sample_action, sample_reward, targets[i, sample_action])\n",
    "            self.loss += self.model.train_on_batch(inputs, targets)\n",
    "            #print(self.loss)\n",
    "            if self.epsilon > self.epsilon_min:\n",
    "                self.epsilon -= self.epsilon_decay\n",
    "    '''        \n",
    "    def RGBprocess(new_state):\n",
    "        processed_observation = Image.fromarray(new_state, 'RGB')\n",
    "        processed_observation = processed_observation.convert('L')\n",
    "        processed_observation = processed_observation.resize((80, 80))\n",
    "        processed_observation = np.array(processed_observation)\n",
    "        processed_observation = processed_observation.reshape(1, processed_observation.shape[0], processed_observation.shape[1], 1) #1x80x80x1\n",
    "        return processed_observation\n",
    "        #stack4.append(processed_observation)\n",
    "        #if len(stack4) == 4:\n",
    "            #stack_of_observation = np.stack((processed_observation, processed_observation, processed_observation, processed_observation), axis=2)\n",
    "            #stack_of_observation = stack_of_observation.reshape(stack_of_observation.shape[0], stack_of_observation.shape[1], stack_of_observation.shape[3], stack_of_observation.shape[2])\n",
    "            #print(stack_of_observation.shape)\n",
    "    '''"
   ]
  },
  {
   "cell_type": "code",
   "execution_count": 2,
   "metadata": {
    "scrolled": true
   },
   "outputs": [
    {
     "name": "stderr",
     "output_type": "stream",
     "text": [
      "[2017-08-25 08:39:45,703] Making new env: Breakout-v0\n",
      "[2017-08-25 08:39:45,924] Creating monitor directory Breakout-v0\n",
      "/home/z0m6ie/anaconda3/lib/python3.6/site-packages/ipykernel_launcher.py:31: UserWarning: Update your `Conv2D` call to the Keras 2 API: `Conv2D(32, kernel_size=8, activation=\"relu\", padding=\"same\", input_shape=(80, 80, 4..., strides=(4, 4))`\n",
      "/home/z0m6ie/anaconda3/lib/python3.6/site-packages/ipykernel_launcher.py:32: UserWarning: Update your `Conv2D` call to the Keras 2 API: `Conv2D(64, kernel_size=4, activation=\"relu\", padding=\"same\", strides=(2, 2))`\n",
      "/home/z0m6ie/anaconda3/lib/python3.6/site-packages/ipykernel_launcher.py:33: UserWarning: Update your `Conv2D` call to the Keras 2 API: `Conv2D(64, kernel_size=3, activation=\"relu\", padding=\"same\", strides=(1, 1))`\n",
      "[2017-08-25 08:39:46,011] Starting new video recorder writing to /home/z0m6ie/Documents/GitHub/Machine_Learning_Projects/deep-Q-learning/breakout_stack/Breakout-v0/openaigym.video.0.5256.video000000.mp4\n",
      "[2017-08-25 08:39:47,370] Starting new video recorder writing to /home/z0m6ie/Documents/GitHub/Machine_Learning_Projects/deep-Q-learning/breakout_stack/Breakout-v0/openaigym.video.0.5256.video000001.mp4\n"
     ]
    },
    {
     "name": "stdout",
     "output_type": "stream",
     "text": [
      "1 episode, score = 2.0 \n",
      "2 episode, score = 2.0 \n",
      "3 episode, score = 2.0 \n",
      "4 episode, score = 0.0 \n",
      "5 episode, score = 2.0 \n",
      "6 episode, score = 2.0 \n",
      "7 episode, score = 2.0 \n"
     ]
    },
    {
     "name": "stderr",
     "output_type": "stream",
     "text": [
      "[2017-08-25 08:39:51,285] Starting new video recorder writing to /home/z0m6ie/Documents/GitHub/Machine_Learning_Projects/deep-Q-learning/breakout_stack/Breakout-v0/openaigym.video.0.5256.video000008.mp4\n"
     ]
    },
    {
     "name": "stdout",
     "output_type": "stream",
     "text": [
      "8 episode, score = 1.0 \n",
      "9 episode, score = 4.0 \n",
      "10 episode, score = 0.0 \n",
      "11 episode, score = 1.0 \n",
      "12 episode, score = 1.0 \n",
      "13 episode, score = 2.0 \n",
      "14 episode, score = 1.0 \n",
      "15 episode, score = 2.0 \n",
      "16 episode, score = 3.0 \n"
     ]
    },
    {
     "ename": "KeyboardInterrupt",
     "evalue": "",
     "output_type": "error",
     "traceback": [
      "\u001b[0;31m---------------------------------------------------------------------------\u001b[0m",
      "\u001b[0;31mKeyboardInterrupt\u001b[0m                         Traceback (most recent call last)",
      "\u001b[0;32m<ipython-input-2-6d6fef656bed>\u001b[0m in \u001b[0;36m<module>\u001b[0;34m()\u001b[0m\n\u001b[1;32m     75\u001b[0m     \u001b[0;32mif\u001b[0m \u001b[0mdone\u001b[0m\u001b[0;34m:\u001b[0m\u001b[0;34m\u001b[0m\u001b[0m\n\u001b[1;32m     76\u001b[0m         \u001b[0mprint\u001b[0m\u001b[0;34m(\u001b[0m\u001b[0;34m\"{} episode, score = {} \"\u001b[0m\u001b[0;34m.\u001b[0m\u001b[0mformat\u001b[0m\u001b[0;34m(\u001b[0m\u001b[0mi_episodes\u001b[0m \u001b[0;34m+\u001b[0m \u001b[0;36m1\u001b[0m\u001b[0;34m,\u001b[0m \u001b[0mtotalreward\u001b[0m\u001b[0;34m)\u001b[0m\u001b[0;34m)\u001b[0m\u001b[0;34m\u001b[0m\u001b[0m\n\u001b[0;32m---> 77\u001b[0;31m         \u001b[0magent\u001b[0m\u001b[0;34m.\u001b[0m\u001b[0msave_model\u001b[0m\u001b[0;34m(\u001b[0m\u001b[0;34m)\u001b[0m\u001b[0;34m\u001b[0m\u001b[0m\n\u001b[0m\u001b[1;32m     78\u001b[0m \u001b[0;34m\u001b[0m\u001b[0m\n\u001b[1;32m     79\u001b[0m \u001b[0menv\u001b[0m\u001b[0;34m.\u001b[0m\u001b[0mclose\u001b[0m\u001b[0;34m(\u001b[0m\u001b[0;34m)\u001b[0m\u001b[0;34m\u001b[0m\u001b[0m\n",
      "\u001b[0;32m<ipython-input-1-1294e5194074>\u001b[0m in \u001b[0;36msave_model\u001b[0;34m(self)\u001b[0m\n\u001b[1;32m     40\u001b[0m \u001b[0;34m\u001b[0m\u001b[0m\n\u001b[1;32m     41\u001b[0m     \u001b[0;32mdef\u001b[0m \u001b[0msave_model\u001b[0m\u001b[0;34m(\u001b[0m\u001b[0mself\u001b[0m\u001b[0;34m)\u001b[0m\u001b[0;34m:\u001b[0m\u001b[0;34m\u001b[0m\u001b[0m\n\u001b[0;32m---> 42\u001b[0;31m             \u001b[0mself\u001b[0m\u001b[0;34m.\u001b[0m\u001b[0mmodel\u001b[0m\u001b[0;34m.\u001b[0m\u001b[0msave\u001b[0m\u001b[0;34m(\u001b[0m\u001b[0mself\u001b[0m\u001b[0;34m.\u001b[0m\u001b[0mweight_backup\u001b[0m\u001b[0;34m)\u001b[0m\u001b[0;34m\u001b[0m\u001b[0m\n\u001b[0m\u001b[1;32m     43\u001b[0m \u001b[0;34m\u001b[0m\u001b[0m\n\u001b[1;32m     44\u001b[0m     \u001b[0;32mdef\u001b[0m \u001b[0mact\u001b[0m\u001b[0;34m(\u001b[0m\u001b[0mself\u001b[0m\u001b[0;34m,\u001b[0m \u001b[0mstate\u001b[0m\u001b[0;34m)\u001b[0m\u001b[0;34m:\u001b[0m\u001b[0;34m\u001b[0m\u001b[0m\n",
      "\u001b[0;32m/home/z0m6ie/anaconda3/lib/python3.6/site-packages/keras/engine/topology.py\u001b[0m in \u001b[0;36msave\u001b[0;34m(self, filepath, overwrite, include_optimizer)\u001b[0m\n\u001b[1;32m   2504\u001b[0m         \"\"\"\n\u001b[1;32m   2505\u001b[0m         \u001b[0;32mfrom\u001b[0m \u001b[0;34m.\u001b[0m\u001b[0;34m.\u001b[0m\u001b[0mmodels\u001b[0m \u001b[0;32mimport\u001b[0m \u001b[0msave_model\u001b[0m\u001b[0;34m\u001b[0m\u001b[0m\n\u001b[0;32m-> 2506\u001b[0;31m         \u001b[0msave_model\u001b[0m\u001b[0;34m(\u001b[0m\u001b[0mself\u001b[0m\u001b[0;34m,\u001b[0m \u001b[0mfilepath\u001b[0m\u001b[0;34m,\u001b[0m \u001b[0moverwrite\u001b[0m\u001b[0;34m,\u001b[0m \u001b[0minclude_optimizer\u001b[0m\u001b[0;34m)\u001b[0m\u001b[0;34m\u001b[0m\u001b[0m\n\u001b[0m\u001b[1;32m   2507\u001b[0m \u001b[0;34m\u001b[0m\u001b[0m\n\u001b[1;32m   2508\u001b[0m     \u001b[0;32mdef\u001b[0m \u001b[0msave_weights\u001b[0m\u001b[0;34m(\u001b[0m\u001b[0mself\u001b[0m\u001b[0;34m,\u001b[0m \u001b[0mfilepath\u001b[0m\u001b[0;34m,\u001b[0m \u001b[0moverwrite\u001b[0m\u001b[0;34m=\u001b[0m\u001b[0;32mTrue\u001b[0m\u001b[0;34m)\u001b[0m\u001b[0;34m:\u001b[0m\u001b[0;34m\u001b[0m\u001b[0m\n",
      "\u001b[0;32m/home/z0m6ie/anaconda3/lib/python3.6/site-packages/keras/models.py\u001b[0m in \u001b[0;36msave_model\u001b[0;34m(model, filepath, overwrite, include_optimizer)\u001b[0m\n\u001b[1;32m    112\u001b[0m     \u001b[0;32melse\u001b[0m\u001b[0;34m:\u001b[0m\u001b[0;34m\u001b[0m\u001b[0m\n\u001b[1;32m    113\u001b[0m         \u001b[0mmodel_layers\u001b[0m \u001b[0;34m=\u001b[0m \u001b[0mmodel\u001b[0m\u001b[0;34m.\u001b[0m\u001b[0mlayers\u001b[0m\u001b[0;34m\u001b[0m\u001b[0m\n\u001b[0;32m--> 114\u001b[0;31m     \u001b[0mtopology\u001b[0m\u001b[0;34m.\u001b[0m\u001b[0msave_weights_to_hdf5_group\u001b[0m\u001b[0;34m(\u001b[0m\u001b[0mmodel_weights_group\u001b[0m\u001b[0;34m,\u001b[0m \u001b[0mmodel_layers\u001b[0m\u001b[0;34m)\u001b[0m\u001b[0;34m\u001b[0m\u001b[0m\n\u001b[0m\u001b[1;32m    115\u001b[0m \u001b[0;34m\u001b[0m\u001b[0m\n\u001b[1;32m    116\u001b[0m     \u001b[0;32mif\u001b[0m \u001b[0minclude_optimizer\u001b[0m \u001b[0;32mand\u001b[0m \u001b[0mhasattr\u001b[0m\u001b[0;34m(\u001b[0m\u001b[0mmodel\u001b[0m\u001b[0;34m,\u001b[0m \u001b[0;34m'optimizer'\u001b[0m\u001b[0;34m)\u001b[0m\u001b[0;34m:\u001b[0m\u001b[0;34m\u001b[0m\u001b[0m\n",
      "\u001b[0;32m/home/z0m6ie/anaconda3/lib/python3.6/site-packages/keras/engine/topology.py\u001b[0m in \u001b[0;36msave_weights_to_hdf5_group\u001b[0;34m(f, layers)\u001b[0m\n\u001b[1;32m   2816\u001b[0m                 \u001b[0mparam_dset\u001b[0m\u001b[0;34m[\u001b[0m\u001b[0;34m(\u001b[0m\u001b[0;34m)\u001b[0m\u001b[0;34m]\u001b[0m \u001b[0;34m=\u001b[0m \u001b[0mval\u001b[0m\u001b[0;34m\u001b[0m\u001b[0m\n\u001b[1;32m   2817\u001b[0m             \u001b[0;32melse\u001b[0m\u001b[0;34m:\u001b[0m\u001b[0;34m\u001b[0m\u001b[0m\n\u001b[0;32m-> 2818\u001b[0;31m                 \u001b[0mparam_dset\u001b[0m\u001b[0;34m[\u001b[0m\u001b[0;34m:\u001b[0m\u001b[0;34m]\u001b[0m \u001b[0;34m=\u001b[0m \u001b[0mval\u001b[0m\u001b[0;34m\u001b[0m\u001b[0m\n\u001b[0m\u001b[1;32m   2819\u001b[0m \u001b[0;34m\u001b[0m\u001b[0m\n\u001b[1;32m   2820\u001b[0m \u001b[0;34m\u001b[0m\u001b[0m\n",
      "\u001b[0;32mh5py/_objects.pyx\u001b[0m in \u001b[0;36mh5py._objects.with_phil.wrapper (/home/ilan/minonda/conda-bld/h5py_1490028290543/work/h5py/_objects.c:2846)\u001b[0;34m()\u001b[0m\n",
      "\u001b[0;32mh5py/_objects.pyx\u001b[0m in \u001b[0;36mh5py._objects.with_phil.wrapper (/home/ilan/minonda/conda-bld/h5py_1490028290543/work/h5py/_objects.c:2804)\u001b[0;34m()\u001b[0m\n",
      "\u001b[0;32m/home/z0m6ie/anaconda3/lib/python3.6/site-packages/h5py/_hl/dataset.py\u001b[0m in \u001b[0;36m__setitem__\u001b[0;34m(self, args, val)\u001b[0m\n\u001b[1;32m    628\u001b[0m         \u001b[0mmspace\u001b[0m \u001b[0;34m=\u001b[0m \u001b[0mh5s\u001b[0m\u001b[0;34m.\u001b[0m\u001b[0mcreate_simple\u001b[0m\u001b[0;34m(\u001b[0m\u001b[0mmshape_pad\u001b[0m\u001b[0;34m,\u001b[0m \u001b[0;34m(\u001b[0m\u001b[0mh5s\u001b[0m\u001b[0;34m.\u001b[0m\u001b[0mUNLIMITED\u001b[0m\u001b[0;34m,\u001b[0m\u001b[0;34m)\u001b[0m\u001b[0;34m*\u001b[0m\u001b[0mlen\u001b[0m\u001b[0;34m(\u001b[0m\u001b[0mmshape_pad\u001b[0m\u001b[0;34m)\u001b[0m\u001b[0;34m)\u001b[0m\u001b[0;34m\u001b[0m\u001b[0m\n\u001b[1;32m    629\u001b[0m         \u001b[0;32mfor\u001b[0m \u001b[0mfspace\u001b[0m \u001b[0;32min\u001b[0m \u001b[0mselection\u001b[0m\u001b[0;34m.\u001b[0m\u001b[0mbroadcast\u001b[0m\u001b[0;34m(\u001b[0m\u001b[0mmshape\u001b[0m\u001b[0;34m)\u001b[0m\u001b[0;34m:\u001b[0m\u001b[0;34m\u001b[0m\u001b[0m\n\u001b[0;32m--> 630\u001b[0;31m             \u001b[0mself\u001b[0m\u001b[0;34m.\u001b[0m\u001b[0mid\u001b[0m\u001b[0;34m.\u001b[0m\u001b[0mwrite\u001b[0m\u001b[0;34m(\u001b[0m\u001b[0mmspace\u001b[0m\u001b[0;34m,\u001b[0m \u001b[0mfspace\u001b[0m\u001b[0;34m,\u001b[0m \u001b[0mval\u001b[0m\u001b[0;34m,\u001b[0m \u001b[0mmtype\u001b[0m\u001b[0;34m,\u001b[0m \u001b[0mdxpl\u001b[0m\u001b[0;34m=\u001b[0m\u001b[0mself\u001b[0m\u001b[0;34m.\u001b[0m\u001b[0m_dxpl\u001b[0m\u001b[0;34m)\u001b[0m\u001b[0;34m\u001b[0m\u001b[0m\n\u001b[0m\u001b[1;32m    631\u001b[0m \u001b[0;34m\u001b[0m\u001b[0m\n\u001b[1;32m    632\u001b[0m     \u001b[0;32mdef\u001b[0m \u001b[0mread_direct\u001b[0m\u001b[0;34m(\u001b[0m\u001b[0mself\u001b[0m\u001b[0;34m,\u001b[0m \u001b[0mdest\u001b[0m\u001b[0;34m,\u001b[0m \u001b[0msource_sel\u001b[0m\u001b[0;34m=\u001b[0m\u001b[0;32mNone\u001b[0m\u001b[0;34m,\u001b[0m \u001b[0mdest_sel\u001b[0m\u001b[0;34m=\u001b[0m\u001b[0;32mNone\u001b[0m\u001b[0;34m)\u001b[0m\u001b[0;34m:\u001b[0m\u001b[0;34m\u001b[0m\u001b[0m\n",
      "\u001b[0;31mKeyboardInterrupt\u001b[0m: "
     ]
    }
   ],
   "source": [
    "import sys\n",
    "import gym\n",
    "from gym import wrappers\n",
    "from scipy import misc\n",
    "\n",
    "\n",
    "def RGBprocess(raw_img):\n",
    "        processed_observation = Image.fromarray(raw_img, 'RGB')\n",
    "        processed_observation = processed_observation.convert('L')\n",
    "        processed_observation = processed_observation.resize((80, 80))\n",
    "        processed_observation = np.array(processed_observation)\n",
    "        processed_observation = processed_observation.reshape(1, processed_observation.shape[0], processed_observation.shape[1]) #1x80x80x1\n",
    "        return processed_observation\n",
    "\n",
    "'''\n",
    "def RGBprocess(raw_img): \n",
    "        I = raw_img[35:195]\n",
    "        I = I[::2, ::2, 0]\n",
    "        I[I == 144] = 0\n",
    "        I[I == 109] = 0\n",
    "        I[I != 0] = 1\n",
    "        processed_observation = I.astype(np.float32)\n",
    "        return processed_observation\n",
    "\n",
    "def RGBprocess(raw_img):\n",
    "    grayscale_observation = raw_img.mean(2)\n",
    "    resized_observation = misc.imresize(grayscale_observation, (80, 80)).astype(np.float32)\n",
    "    processed_observation = resized_observation.reshape(1, resized_observation.shape[0], resized_observation.shape[1], 1)\n",
    "    return processed_observation\n",
    "\n",
    "\n",
    "def RGBprocess(raw_img):\n",
    "    frame = cv2.cvtColor(cv2.resize(frame, (84, 84)), cv2.COLOR_BGR2GRAY)\n",
    "    ret, frame = cv2.threshold(frame, 1, 255, cv2.THRESH_BINARY)\n",
    "    processed_observation = np.reshape(frame, (1, 84, 84, 1))\n",
    "    return processed_observation\n",
    "'''\n",
    "\n",
    "batch_size = 32\n",
    "#episodes = sys.argv[1] if len(sys.argv) > 1 else 5000\n",
    "#env_name = sys.argv[2] if len(sys.argv) > 2 else \"Pong-v0\"\n",
    "\n",
    "episodes = 150000\n",
    "env_name = \"Breakout-v0\"\n",
    "D = 80*80\n",
    "\n",
    "env = gym.make(env_name)\n",
    "\n",
    "env = wrappers.Monitor(env, env_name, force=True)\n",
    "\n",
    "agent = Agent(env.observation_space.shape, env.action_space.n)\n",
    "\n",
    "for i_episodes in range(episodes):\n",
    "    State = env.reset()\n",
    "    state = RGBprocess(State)\n",
    "    state = agent.stack(state)\n",
    "    totalreward = 0\n",
    "    num_actions = 0\n",
    "    prev_x = None\n",
    "    short_mem = []\n",
    "    done = False\n",
    "    while not done:\n",
    "        #if i_episodes % 50 == 0:\n",
    "            #env.render()\n",
    "        action = agent.act(state)\n",
    "        new_state, reward, done, info = env.step(action)\n",
    "        new_state = RGBprocess(new_state)\n",
    "        #new_state_dif = new_state - prev_x if prev_x is not None else np.zeros((1, 80, 80, 1))\n",
    "        #prev_x = new_state\n",
    "        new_state_dif = agent.stack(new_state)\n",
    "        agent.remember(state, action, reward, new_state_dif, done)\n",
    "        state = new_state_dif\n",
    "        totalreward += reward\n",
    "    agent.memory_replay(batch_size)\n",
    "    if done:\n",
    "        print(\"{} episode, score = {} \".format(i_episodes + 1, totalreward))\n",
    "        agent.save_model()\n",
    "\n",
    "env.close()\n",
    "gym.upload(env_name, api_key='sk_WRCITkqmTJKYB9hvBk5tPA')"
   ]
  },
  {
   "cell_type": "code",
   "execution_count": null,
   "metadata": {
    "collapsed": true
   },
   "outputs": [],
   "source": [
    "import gym\n",
    "from gym import wrappers\n",
    "gym.upload(env_name, api_key='sk_WRCITkqmTJKYB9hvBk5tPA')"
   ]
  },
  {
   "cell_type": "code",
   "execution_count": null,
   "metadata": {
    "collapsed": true
   },
   "outputs": [],
   "source": [
    "processed_observation.shape"
   ]
  },
  {
   "cell_type": "code",
   "execution_count": 3,
   "metadata": {},
   "outputs": [
    {
     "data": {
      "text/plain": [
       "(210, 160, 3)"
      ]
     },
     "execution_count": 3,
     "metadata": {},
     "output_type": "execute_result"
    }
   ],
   "source": [
    "env.observation_space.shape"
   ]
  },
  {
   "cell_type": "code",
   "execution_count": null,
   "metadata": {
    "collapsed": true
   },
   "outputs": [],
   "source": [
    "test = agent.model.predict(state)"
   ]
  },
  {
   "cell_type": "code",
   "execution_count": null,
   "metadata": {
    "collapsed": true
   },
   "outputs": [],
   "source": [
    "test[0]"
   ]
  },
  {
   "cell_type": "code",
   "execution_count": null,
   "metadata": {
    "collapsed": true
   },
   "outputs": [],
   "source": [
    "env.reset()\n",
    "env.close()"
   ]
  },
  {
   "cell_type": "code",
   "execution_count": null,
   "metadata": {
    "collapsed": true
   },
   "outputs": [],
   "source": [
    "len(agent.memory)"
   ]
  },
  {
   "cell_type": "code",
   "execution_count": null,
   "metadata": {
    "collapsed": true
   },
   "outputs": [],
   "source": [
    "processed_observation = Image.fromarray(state, 'RGB')\n",
    "processed_observation = processed_observation.convert('L')\n",
    "processed_observation = processed_observation.resize((80, 80))\n",
    "processed_observation = np.array(processed_observation)\n",
    "processed_observation = processed_observation.reshape(processed_observation.shape[0], processed_observation.shape[1], 1)"
   ]
  },
  {
   "cell_type": "code",
   "execution_count": null,
   "metadata": {
    "collapsed": true
   },
   "outputs": [],
   "source": [
    "new_state"
   ]
  },
  {
   "cell_type": "code",
   "execution_count": null,
   "metadata": {
    "collapsed": true
   },
   "outputs": [],
   "source": [
    "def RGBprocess(new_state):\n",
    "        processed_observation = Image.fromarray(new_state, 'RGB')\n",
    "        processed_observation = processed_observation.convert('L')\n",
    "        processed_observation = processed_observation.resize((80, 80))\n",
    "        processed_observation = np.array(processed_observation)\n",
    "        processed_observation = processed_observation.reshape(processed_observation.shape[0], processed_observation.shape[1], 1) #1x80x80x1\n",
    "        return processed_observation"
   ]
  },
  {
   "cell_type": "code",
   "execution_count": null,
   "metadata": {
    "collapsed": true
   },
   "outputs": [],
   "source": [
    "new_state_dif.shape"
   ]
  },
  {
   "cell_type": "code",
   "execution_count": null,
   "metadata": {
    "collapsed": true
   },
   "outputs": [],
   "source": [
    "new_state_dif = new_state_dif.reshape(new_state_dif.shape[1], new_state_dif.shape[2])\n",
    "img = Image.fromarray(new_state_dif, 'L')\n",
    "img.show()"
   ]
  },
  {
   "cell_type": "code",
   "execution_count": null,
   "metadata": {
    "collapsed": true
   },
   "outputs": [],
   "source": [
    "#img = Image.fromarray(state, 'L')\n",
    "img.show()"
   ]
  },
  {
   "cell_type": "code",
   "execution_count": null,
   "metadata": {
    "collapsed": true
   },
   "outputs": [],
   "source": [
    "thing = [1,2,3,4,5,6]\n",
    "for x in thing[-2:]:\n",
    "    print(x)"
   ]
  },
  {
   "cell_type": "code",
   "execution_count": null,
   "metadata": {
    "collapsed": true
   },
   "outputs": [],
   "source": [
    "        # way to adjust reward, think incorrect\n",
    "        if reward == 0:\n",
    "            num_actions += 1\n",
    "            short_mem.append([state, action, reward, new_state_dif, done])\n",
    "        else:\n",
    "            num_actions += 1\n",
    "            short_mem.append([state, action, reward, new_state_dif, done])\n",
    "            if reward == -1.0:\n",
    "                for m in short_mem:\n",
    "                    m[2] = -1.0\n",
    "                    agent.remember(m[0], m[1], m[2], m[3], m[4])\n",
    "                num_actions = 0\n",
    "            elif reward == 1.0:\n",
    "                for m in short_mem:\n",
    "                    m[2] = 1.0\n",
    "                    agent.remember(m[0], m[1], m[2], m[3], m[4])\n",
    "            short_mem = []"
   ]
  },
  {
   "cell_type": "code",
   "execution_count": null,
   "metadata": {
    "collapsed": true
   },
   "outputs": [],
   "source": [
    "        # early attempt at increasing samples with positive reward\n",
    "        winsample = [s for s in self.memory if s[2]== 1.0]\n",
    "        #print(winsample)\n",
    "        tuple(winsample)\n",
    "        if len(winsample) > 4:\n",
    "            Samplewin = random.sample(winsample, 4)\n",
    "            Sample += Samplewin\n",
    "        else:  \n",
    "            Sample += winsample"
   ]
  }
 ],
 "metadata": {
  "kernelspec": {
   "display_name": "Python 3",
   "language": "python",
   "name": "python3"
  },
  "language_info": {
   "codemirror_mode": {
    "name": "ipython",
    "version": 3
   },
   "file_extension": ".py",
   "mimetype": "text/x-python",
   "name": "python",
   "nbconvert_exporter": "python",
   "pygments_lexer": "ipython3",
   "version": "3.6.1"
  }
 },
 "nbformat": 4,
 "nbformat_minor": 2
}
