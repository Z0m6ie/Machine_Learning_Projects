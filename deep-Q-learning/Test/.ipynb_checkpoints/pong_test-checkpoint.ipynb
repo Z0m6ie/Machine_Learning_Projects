{
 "cells": [
  {
   "cell_type": "code",
   "execution_count": 3,
   "metadata": {},
   "outputs": [],
   "source": [
    "import numpy as np\n",
    "import random\n",
    "from PIL import Image\n",
    "from collections import deque\n",
    "from keras.models import Sequential\n",
    "from keras import initializers\n",
    "from keras.layers import Dense, Conv2D, Dropout, Flatten\n",
    "from keras.optimizers import Adam, Nadam, Adamax\n",
    "sizes = (84,84,4)\n",
    "\n",
    "class Agent:\n",
    "    def __init__(self, state_size, action_size):\n",
    "        self.state_size = state_size\n",
    "        self.action_size = action_size\n",
    "        self.memory = deque(maxlen=200000)\n",
    "        self.gamma = 0.99   # discount rate\n",
    "        self.epsilon = 1.0  # exploration rate\n",
    "        self.epsilon_min = 0.01  # exploration will not decay futher\n",
    "        self.epsilon_decay = 0.0000198\n",
    "        self.learning_rate = 0.0001\n",
    "        self.loss = 0\n",
    "        self.model = self._build_model()\n",
    "        self.weight_backup = 'model_weights.h5'\n",
    "        self.old_I_2 = None\n",
    "        self.old_I_3 = None\n",
    "        self.old_I_4 = None\n",
    "        self.old_I_1 = None\n",
    "\n",
    "    def _build_model(self):\n",
    "        model = Sequential()\n",
    "        model.add(Conv2D(32, kernel_size=8, subsample=(4, 4), activation='relu', kernel_initializer='random_uniform', bias_initializer='zeros', padding='same', input_shape= sizes))#80*80*4\n",
    "        model.add(Conv2D(64, kernel_size=4, subsample=(2, 2), activation='relu', padding='same'))\n",
    "        model.add(Conv2D(64, kernel_size=3, subsample=(1, 1), activation='relu', padding='same'))\n",
    "        model.add(Flatten())\n",
    "        model.add(Dense(256, activation='relu'))\n",
    "        model.add(Dense(self.action_size))\n",
    "        model.compile(loss='mse', optimizer=Adam(lr=self.learning_rate))\n",
    "        print(model.summary())\n",
    "        return model\n",
    "\n",
    "    \n",
    "    def save_model(self):\n",
    "            self.model.save(self.weight_backup)\n",
    "\n",
    "    def act(self, state):\n",
    "        if np.random.rand() <= self.epsilon:\n",
    "            return random.randrange(self.action_size)\n",
    "        act_values = self.model.predict(state)\n",
    "        return np.argmax(act_values[0])\n",
    "    \n",
    "    def stack(self, processed_observation):\n",
    "        I_4 = self.old_I_3 if self.old_I_3 is not None else np.zeros((1, 84, 84))\n",
    "        I_3 = self.old_I_2 if self.old_I_2 is not None else np.zeros((1, 84, 84))\n",
    "        I_2 = self.old_I_1 if self.old_I_1 is not None else np.zeros((1, 84, 84))\n",
    "        I_1 = processed_observation\n",
    "        processed_stack = np.stack((I_4, I_3, I_2, I_1), axis = 3)\n",
    "        #print(processed_stack.shape)\n",
    "        self.old_I_4 = I_4\n",
    "        self.old_I_3 = I_3\n",
    "        self.old_I_2 = I_2\n",
    "        self.old_I_1 = I_1\n",
    "        return processed_stack\n",
    "\n",
    "    def remember(self, state, action, reward, new_state, done):\n",
    "        if len(self.memory) >= 200000:\n",
    "            self.memory.popleft()\n",
    "            self.memory.append([state, action, reward, new_state, done])\n",
    "        else:\n",
    "            self.memory.append([state, action, reward, new_state, done])    \n",
    "\n",
    "    def memory_replay(self, batch_size):\n",
    "        if len(self.memory) < batch_size:\n",
    "            return\n",
    "        Sample = random.sample(self.memory, batch_size)\n",
    "        for state, action, reward, new_state, done in Sample:\n",
    "            target = reward\n",
    "            if not done:\n",
    "                target = reward + self.gamma * np.amax(self.model.predict(new_state)[0])\n",
    "            target_f = self.model.predict(state)\n",
    "            target_f[0][action] = target\n",
    "            print(action, reward, target_f[0][action])\n",
    "            self.model.fit(state, target_f, epochs=1, verbose=0)\n",
    "        if self.epsilon > self.epsilon_min:\n",
    "            self.epsilon -= self.epsilon_decay    \n",
    "        \n",
    "        '''\n",
    "        if len(self.memory) < batch_size:\n",
    "            return\n",
    "        Sample = random.sample(self.memory, batch_size)\n",
    "        '''\n",
    "\n",
    "        '''\n",
    "        inputs = np.zeros((len(Sample), state.shape[1], state.shape[2], state.shape[3])) # minibatch input\n",
    "        targets = np.zeros((inputs.shape[0], self.action_size))\n",
    "        \n",
    "        for i in range(0, len(Sample)):\n",
    "            sample_state = Sample[i][0]\n",
    "            sample_action = Sample[i][1]\n",
    "            sample_reward = Sample[i][2]\n",
    "            sample_new_state = Sample[i][3]\n",
    "            sample_done = Sample[i][4]\n",
    "            \n",
    "#             xxx = sample_new_state.reshape(sample_new_state.shape[1], sample_new_state.shape[2])\n",
    "#             img = Image.fromarray(xxx, 'L')\n",
    "#             img.show()\n",
    "            \n",
    "            inputs[i:i+1] = sample_state # slice of inputs setting = to state\n",
    "            \n",
    "            targets[i] = self.model.predict(sample_state)\n",
    "            future_reward = self.model.predict(sample_new_state)\n",
    "            \n",
    "            if sample_done:\n",
    "                targets[i, sample_action] = sample_reward\n",
    "            #elif sample_reward == 1.0:\n",
    "                #targets[i, sample_action] = sample_reward\n",
    "            #elif sample_reward == -1.0:\n",
    "                #targets[i, sample_action] = sample_reward\n",
    "            else:\n",
    "                targets[i, sample_action] = sample_reward + self.gamma * np.max(future_reward)\n",
    "            print(sample_action, sample_reward, targets[i, sample_action])\n",
    "        self.loss += self.model.train_on_batch(inputs, targets)\n",
    "        print(self.loss)\n",
    "        if self.epsilon > self.epsilon_min:\n",
    "            self.epsilon -= self.epsilon_decay\n",
    "            '''\n",
    "    '''        \n",
    "    def RGBprocess(new_state):\n",
    "        processed_observation = Image.fromarray(new_state, 'RGB')\n",
    "        processed_observation = processed_observation.convert('L')\n",
    "        processed_observation = processed_observation.resize((80, 80))\n",
    "        processed_observation = np.array(processed_observation)\n",
    "        processed_observation = processed_observation.reshape(1, processed_observation.shape[0], processed_observation.shape[1], 1) #1x80x80x1\n",
    "        return processed_observation\n",
    "        #stack4.append(processed_observation)\n",
    "        #if len(stack4) == 4:\n",
    "            #stack_of_observation = np.stack((processed_observation, processed_observation, processed_observation, processed_observation), axis=2)\n",
    "            #stack_of_observation = stack_of_observation.reshape(stack_of_observation.shape[0], stack_of_observation.shape[1], stack_of_observation.shape[3], stack_of_observation.shape[2])\n",
    "            #print(stack_of_observation.shape)\n",
    "    '''"
   ]
  },
  {
   "cell_type": "code",
   "execution_count": 4,
   "metadata": {
    "scrolled": true
   },
   "outputs": [
    {
     "name": "stderr",
     "output_type": "stream",
     "text": [
      "[2017-09-01 11:58:47,851] Making new env: Breakout-v0\n",
      "[2017-09-01 11:58:48,032] Clearing 4 monitor files from previous run (because force=True was provided)\n",
      "/home/z0m6ie/anaconda3/lib/python3.6/site-packages/ipykernel_launcher.py:31: UserWarning: Update your `Conv2D` call to the Keras 2 API: `Conv2D(32, kernel_size=8, activation=\"relu\", kernel_initializer=\"random_uniform\", bias_initializer=\"zeros\", padding=\"same\", input_shape=(84, 84, 4..., strides=(4, 4))`\n",
      "/home/z0m6ie/anaconda3/lib/python3.6/site-packages/ipykernel_launcher.py:32: UserWarning: Update your `Conv2D` call to the Keras 2 API: `Conv2D(64, kernel_size=4, activation=\"relu\", padding=\"same\", strides=(2, 2))`\n",
      "/home/z0m6ie/anaconda3/lib/python3.6/site-packages/ipykernel_launcher.py:33: UserWarning: Update your `Conv2D` call to the Keras 2 API: `Conv2D(64, kernel_size=3, activation=\"relu\", padding=\"same\", strides=(1, 1))`\n",
      "[2017-09-01 11:58:48,186] Starting new video recorder writing to /home/z0m6ie/Documents/GitHub/Machine_Learning_Projects/deep-Q-learning/Test/Breakout-v0/openaigym.video.1.11001.video000000.mp4\n"
     ]
    },
    {
     "name": "stdout",
     "output_type": "stream",
     "text": [
      "_________________________________________________________________\n",
      "Layer (type)                 Output Shape              Param #   \n",
      "=================================================================\n",
      "conv2d_4 (Conv2D)            (None, 21, 21, 32)        8224      \n",
      "_________________________________________________________________\n",
      "conv2d_5 (Conv2D)            (None, 11, 11, 64)        32832     \n",
      "_________________________________________________________________\n",
      "conv2d_6 (Conv2D)            (None, 11, 11, 64)        36928     \n",
      "_________________________________________________________________\n",
      "flatten_2 (Flatten)          (None, 7744)              0         \n",
      "_________________________________________________________________\n",
      "dense_3 (Dense)              (None, 256)               1982720   \n",
      "_________________________________________________________________\n",
      "dense_4 (Dense)              (None, 4)                 1028      \n",
      "=================================================================\n",
      "Total params: 2,061,732\n",
      "Trainable params: 2,061,732\n",
      "Non-trainable params: 0\n",
      "_________________________________________________________________\n",
      "None\n",
      "1 0.0 13.1037\n",
      "2 0.0 29.5281\n",
      "3 0.0 49.8941\n",
      "1 0.0 59.4341\n",
      "2 0.0 65.753\n",
      "3 0.0 72.2395\n",
      "2 0.0 78.0569\n",
      "2 0.0 87.9225\n",
      "0 0.0 95.67\n",
      "1 0.0 96.7941\n",
      "1 0.0 80.1344\n",
      "2 0.0 102.003\n",
      "0 0.0 107.139\n",
      "2 0.0 112.344\n",
      "3 0.0 117.49\n",
      "3 0.0 121.631\n",
      "1 0.0 126.72\n",
      "2 0.0 129.444\n",
      "0 0.0 93.412\n",
      "3 0.0 140.867\n",
      "2 0.0 144.832\n",
      "1 0.0 148.952\n",
      "1 0.0 156.455\n",
      "0 0.0 162.004\n",
      "0 0.0 170.637\n",
      "3 0.0 179.554\n",
      "1 0.0 188.377\n",
      "1 0.0 197.95\n",
      "1 0.0 205.517\n"
     ]
    },
    {
     "name": "stderr",
     "output_type": "stream",
     "text": [
      "[2017-09-01 11:58:49,896] Finished writing results. You can upload them to the scoreboard via gym.upload('/home/z0m6ie/Documents/GitHub/Machine_Learning_Projects/deep-Q-learning/Test/Breakout-v0')\n",
      "[2017-09-01 11:58:49,897] [Breakout-v0] Uploading 1 episodes of training data\n"
     ]
    },
    {
     "name": "stdout",
     "output_type": "stream",
     "text": [
      "3 0.0 222.87\n",
      "3 0.0 241.704\n",
      "3 0.0 261.945\n",
      "1 episode, score = 0.0 \n"
     ]
    },
    {
     "name": "stderr",
     "output_type": "stream",
     "text": [
      "[2017-09-01 11:58:50,920] [Breakout-v0] Uploading videos of 1 training episodes (10736 bytes)\n",
      "[2017-09-01 11:58:51,609] [Breakout-v0] Creating evaluation object from Breakout-v0 with learning curve and training video\n",
      "[2017-09-01 11:58:52,100] \n",
      "****************************************************\n",
      "You successfully uploaded your evaluation on Breakout-v0 to\n",
      "OpenAI Gym! You can find it at:\n",
      "\n",
      "    https://gym.openai.com/evaluations/eval_pwl4hEjnQS627VRWy8OMQ\n",
      "\n",
      "****************************************************\n"
     ]
    }
   ],
   "source": [
    "import sys\n",
    "import gym\n",
    "from gym import wrappers\n",
    "from scipy import misc\n",
    "#import cv2\n",
    "\n",
    "\n",
    "def RGBprocess(raw_img):\n",
    "        processed_observation = Image.fromarray(raw_img, 'RGB')\n",
    "        processed_observation = processed_observation.convert('L')\n",
    "        processed_observation = processed_observation.resize((84, 84))\n",
    "        processed_observation = np.array(processed_observation)\n",
    "        processed_observation = processed_observation.reshape(1, processed_observation.shape[0], processed_observation.shape[1]) #1x80x80x1\n",
    "        return processed_observation\n",
    "\n",
    "'''\n",
    "def RGBprocess(raw_img): \n",
    "        I = raw_img[35:195]\n",
    "        I = I[::2, ::2, 0]\n",
    "        I[I == 144] = 0\n",
    "        I[I == 109] = 0\n",
    "        I[I != 0] = 1\n",
    "        processed_observation = I.astype(np.float32)\n",
    "        return processed_observation\n",
    "\n",
    "def RGBprocess(raw_img):\n",
    "    grayscale_observation = raw_img.mean(2)\n",
    "    resized_observation = misc.imresize(grayscale_observation, (80, 80)).astype(np.float32)\n",
    "    processed_observation = resized_observation.reshape(1, resized_observation.shape[0], resized_observation.shape[1], 1)\n",
    "    return processed_observation\n",
    "\n",
    "\n",
    "def RGBprocess(raw_img):\n",
    "    frame = cv2.cvtColor(cv2.resize(frame, (84, 84)), cv2.COLOR_BGR2GRAY)\n",
    "    ret, frame = cv2.threshold(frame, 1, 255, cv2.THRESH_BINARY)\n",
    "    processed_observation = np.reshape(frame, (1, 84, 84, 1))\n",
    "    return processed_observation\n",
    "'''\n",
    "\n",
    "batch_size = 32\n",
    "#episodes = sys.argv[1] if len(sys.argv) > 1 else 5000\n",
    "#env_name = sys.argv[2] if len(sys.argv) > 2 else \"Pong-v0\"\n",
    "\n",
    "episodes = 1\n",
    "env_name = \"Breakout-v0\"\n",
    "D = 80*80\n",
    "\n",
    "env = gym.make(env_name)\n",
    "\n",
    "env = wrappers.Monitor(env, env_name, force=True)\n",
    "\n",
    "agent = Agent(env.observation_space.shape, env.action_space.n)\n",
    "\n",
    "for i_episodes in range(episodes):\n",
    "    State = env.reset()\n",
    "    state = RGBprocess(State)\n",
    "    state = agent.stack(state)\n",
    "    totalreward = 0\n",
    "    num_actions = 0\n",
    "    prev_x = None\n",
    "    short_mem = []\n",
    "    done = False\n",
    "    while not done:\n",
    "        #if i_episodes % 50 == 0:\n",
    "            #env.render()\n",
    "        action = agent.act(state)\n",
    "        new_state, reward, done, info = env.step(action)\n",
    "#         xxx = new_state\n",
    "#         img = Image.fromarray(xxx, 'RGB')\n",
    "#         img.show()\n",
    "        new_state = RGBprocess(new_state)\n",
    "#         xxx = new_state.reshape(new_state.shape[1], new_state.shape[2])\n",
    "#         img = Image.fromarray(xxx, 'L')\n",
    "#         img.show()\n",
    "        #new_state_dif = new_state - prev_x if prev_x is not None else np.zeros((1, 80, 80, 1))\n",
    "        #prev_x = new_state\n",
    "        new_state_dif = agent.stack(new_state)\n",
    "        agent.remember(state, action, reward, new_state_dif, done)\n",
    "        state = new_state_dif\n",
    "        totalreward += reward\n",
    "    agent.memory_replay(batch_size)\n",
    "    if done:\n",
    "        print(\"{} episode, score = {} \".format(i_episodes + 1, totalreward))\n",
    "        agent.save_model()\n",
    "\n",
    "env.close()\n",
    "gym.upload(env_name, api_key='sk_WRCITkqmTJKYB9hvBk5tPA')"
   ]
  },
  {
   "cell_type": "code",
   "execution_count": null,
   "metadata": {
    "collapsed": true
   },
   "outputs": [],
   "source": [
    "import gym\n",
    "from gym import wrappers\n",
    "gym.upload(env_name, api_key='sk_WRCITkqmTJKYB9hvBk5tPA')"
   ]
  },
  {
   "cell_type": "code",
   "execution_count": null,
   "metadata": {
    "collapsed": true
   },
   "outputs": [],
   "source": [
    "processed_observation.shape"
   ]
  },
  {
   "cell_type": "code",
   "execution_count": null,
   "metadata": {
    "collapsed": true
   },
   "outputs": [],
   "source": [
    "agent.model.predict(sample_new_state)"
   ]
  },
  {
   "cell_type": "code",
   "execution_count": null,
   "metadata": {
    "collapsed": true
   },
   "outputs": [],
   "source": [
    "agent.model.predict(state)"
   ]
  },
  {
   "cell_type": "code",
   "execution_count": null,
   "metadata": {
    "collapsed": true
   },
   "outputs": [],
   "source": [
    "test[0]"
   ]
  },
  {
   "cell_type": "code",
   "execution_count": null,
   "metadata": {
    "collapsed": true
   },
   "outputs": [],
   "source": [
    "env.reset()\n",
    "env.close()"
   ]
  },
  {
   "cell_type": "code",
   "execution_count": null,
   "metadata": {
    "collapsed": true
   },
   "outputs": [],
   "source": [
    "len(agent.memory)"
   ]
  },
  {
   "cell_type": "code",
   "execution_count": null,
   "metadata": {
    "collapsed": true
   },
   "outputs": [],
   "source": [
    "processed_observation = Image.fromarray(state, 'RGB')\n",
    "processed_observation = processed_observation.convert('L')\n",
    "processed_observation = processed_observation.resize((80, 80))\n",
    "processed_observation = np.array(processed_observation)\n",
    "processed_observation = processed_observation.reshape(processed_observation.shape[0], processed_observation.shape[1], 1)"
   ]
  },
  {
   "cell_type": "code",
   "execution_count": null,
   "metadata": {
    "collapsed": true
   },
   "outputs": [],
   "source": [
    "new_state"
   ]
  },
  {
   "cell_type": "code",
   "execution_count": null,
   "metadata": {
    "collapsed": true
   },
   "outputs": [],
   "source": [
    "def RGBprocess(new_state):\n",
    "        processed_observation = Image.fromarray(new_state, 'RGB')\n",
    "        processed_observation = processed_observation.convert('L')\n",
    "        processed_observation = processed_observation.resize((80, 80))\n",
    "        processed_observation = np.array(processed_observation)\n",
    "        processed_observation = processed_observation.reshape(processed_observation.shape[0], processed_observation.shape[1], 1) #1x80x80x1\n",
    "        return processed_observation"
   ]
  },
  {
   "cell_type": "code",
   "execution_count": null,
   "metadata": {
    "collapsed": true
   },
   "outputs": [],
   "source": [
    "new_state_dif.shape"
   ]
  },
  {
   "cell_type": "code",
   "execution_count": null,
   "metadata": {
    "collapsed": true
   },
   "outputs": [],
   "source": [
    "new_state_dif = new_state_dif.reshape(new_state_dif.shape[1], new_state_dif.shape[2])\n",
    "img = Image.fromarray(new_state_dif, 'L')"
   ]
  },
  {
   "cell_type": "code",
   "execution_count": null,
   "metadata": {
    "collapsed": true
   },
   "outputs": [],
   "source": [
    "#img = Image.fromarray(state, 'L')\n",
    "img.show()"
   ]
  },
  {
   "cell_type": "code",
   "execution_count": null,
   "metadata": {
    "collapsed": true
   },
   "outputs": [],
   "source": [
    "thing = [1,2,3,4,5,6]\n",
    "for x in thing[-2:]:\n",
    "    print(x)"
   ]
  },
  {
   "cell_type": "code",
   "execution_count": null,
   "metadata": {
    "collapsed": true
   },
   "outputs": [],
   "source": [
    "        # way to adjust reward, think incorrect\n",
    "        if reward == 0:\n",
    "            num_actions += 1\n",
    "            short_mem.append([state, action, reward, new_state_dif, done])\n",
    "        else:\n",
    "            num_actions += 1\n",
    "            short_mem.append([state, action, reward, new_state_dif, done])\n",
    "            if reward == -1.0:\n",
    "                for m in short_mem:\n",
    "                    m[2] = -1.0\n",
    "                    agent.remember(m[0], m[1], m[2], m[3], m[4])\n",
    "                num_actions = 0\n",
    "            elif reward == 1.0:\n",
    "                for m in short_mem:\n",
    "                    m[2] = 1.0\n",
    "                    agent.remember(m[0], m[1], m[2], m[3], m[4])\n",
    "            short_mem = []"
   ]
  },
  {
   "cell_type": "code",
   "execution_count": null,
   "metadata": {
    "collapsed": true
   },
   "outputs": [],
   "source": [
    "        # early attempt at increasing samples with positive reward\n",
    "        winsample = [s for s in self.memory if s[2]== 1.0]\n",
    "        #print(winsample)\n",
    "        tuple(winsample)\n",
    "        if len(winsample) > 4:\n",
    "            Samplewin = random.sample(winsample, 4)\n",
    "            Sample += Samplewin\n",
    "        else:  \n",
    "            Sample += winsample"
   ]
  }
 ],
 "metadata": {
  "kernelspec": {
   "display_name": "Python 3",
   "language": "python",
   "name": "python3"
  },
  "language_info": {
   "codemirror_mode": {
    "name": "ipython",
    "version": 3
   },
   "file_extension": ".py",
   "mimetype": "text/x-python",
   "name": "python",
   "nbconvert_exporter": "python",
   "pygments_lexer": "ipython3",
   "version": "3.6.1"
  }
 },
 "nbformat": 4,
 "nbformat_minor": 2
}
