{
 "cells": [
  {
   "cell_type": "code",
   "execution_count": 1,
   "metadata": {
    "collapsed": true
   },
   "outputs": [],
   "source": [
    "import gym\n",
    "from gym import wrappers"
   ]
  },
  {
   "cell_type": "code",
   "execution_count": 2,
   "metadata": {},
   "outputs": [
    {
     "name": "stderr",
     "output_type": "stream",
     "text": [
      "[2017-08-06 15:46:14,237] Making new env: Pong-v0\n",
      "[2017-08-06 15:46:14,832] Creating monitor directory Pong-v0-1\n",
      "[2017-08-06 15:46:14,848] Starting new video recorder writing to /home/z0m6ie/Documents/deep-Q-learning/Pong-v0-1/openaigym.video.0.2584.video000000.mp4\n",
      "[2017-08-06 15:46:24,941] Starting new video recorder writing to /home/z0m6ie/Documents/deep-Q-learning/Pong-v0-1/openaigym.video.0.2584.video000001.mp4\n"
     ]
    },
    {
     "name": "stdout",
     "output_type": "stream",
     "text": [
      "Episode finished after 1 episodes\n",
      "Episode finished after 2 episodes\n",
      "Episode finished after 3 episodes\n",
      "Episode finished after 4 episodes\n",
      "Episode finished after 5 episodes\n",
      "Episode finished after 6 episodes\n",
      "Episode finished after 7 episodes\n"
     ]
    },
    {
     "name": "stderr",
     "output_type": "stream",
     "text": [
      "[2017-08-06 15:47:00,004] Starting new video recorder writing to /home/z0m6ie/Documents/deep-Q-learning/Pong-v0-1/openaigym.video.0.2584.video000008.mp4\n"
     ]
    },
    {
     "name": "stdout",
     "output_type": "stream",
     "text": [
      "Episode finished after 8 episodes\n",
      "Episode finished after 9 episodes\n",
      "Episode finished after 10 episodes\n",
      "Episode finished after 11 episodes\n",
      "Episode finished after 12 episodes\n",
      "Episode finished after 13 episodes\n",
      "Episode finished after 14 episodes\n",
      "Episode finished after 15 episodes\n",
      "Episode finished after 16 episodes\n",
      "Episode finished after 17 episodes\n",
      "Episode finished after 18 episodes\n",
      "Episode finished after 19 episodes\n",
      "Episode finished after 20 episodes\n",
      "Episode finished after 21 episodes\n",
      "Episode finished after 22 episodes\n",
      "Episode finished after 23 episodes\n",
      "Episode finished after 24 episodes\n",
      "Episode finished after 25 episodes\n",
      "Episode finished after 26 episodes\n"
     ]
    },
    {
     "name": "stderr",
     "output_type": "stream",
     "text": [
      "[2017-08-06 15:48:29,852] Starting new video recorder writing to /home/z0m6ie/Documents/deep-Q-learning/Pong-v0-1/openaigym.video.0.2584.video000027.mp4\n"
     ]
    },
    {
     "name": "stdout",
     "output_type": "stream",
     "text": [
      "Episode finished after 27 episodes\n",
      "Episode finished after 28 episodes\n",
      "Episode finished after 29 episodes\n",
      "Episode finished after 30 episodes\n",
      "Episode finished after 31 episodes\n",
      "Episode finished after 32 episodes\n",
      "Episode finished after 33 episodes\n",
      "Episode finished after 34 episodes\n",
      "Episode finished after 35 episodes\n",
      "Episode finished after 36 episodes\n",
      "Episode finished after 37 episodes\n",
      "Episode finished after 38 episodes\n",
      "Episode finished after 39 episodes\n",
      "Episode finished after 40 episodes\n",
      "Episode finished after 41 episodes\n",
      "Episode finished after 42 episodes\n",
      "Episode finished after 43 episodes\n",
      "Episode finished after 44 episodes\n",
      "Episode finished after 45 episodes\n",
      "Episode finished after 46 episodes\n",
      "Episode finished after 47 episodes\n",
      "Episode finished after 48 episodes\n",
      "Episode finished after 49 episodes\n",
      "Episode finished after 50 episodes\n",
      "Episode finished after 51 episodes\n",
      "Episode finished after 52 episodes\n",
      "Episode finished after 53 episodes\n",
      "Episode finished after 54 episodes\n",
      "Episode finished after 55 episodes\n",
      "Episode finished after 56 episodes\n",
      "Episode finished after 57 episodes\n",
      "Episode finished after 58 episodes\n",
      "Episode finished after 59 episodes\n",
      "Episode finished after 60 episodes\n",
      "Episode finished after 61 episodes\n",
      "Episode finished after 62 episodes\n",
      "Episode finished after 63 episodes\n"
     ]
    },
    {
     "name": "stderr",
     "output_type": "stream",
     "text": [
      "[2017-08-06 15:51:37,041] Starting new video recorder writing to /home/z0m6ie/Documents/deep-Q-learning/Pong-v0-1/openaigym.video.0.2584.video000064.mp4\n"
     ]
    },
    {
     "name": "stdout",
     "output_type": "stream",
     "text": [
      "Episode finished after 64 episodes\n",
      "Episode finished after 65 episodes\n",
      "Episode finished after 66 episodes\n",
      "Episode finished after 67 episodes\n",
      "Episode finished after 68 episodes\n",
      "Episode finished after 69 episodes\n",
      "Episode finished after 70 episodes\n",
      "Episode finished after 71 episodes\n",
      "Episode finished after 72 episodes\n",
      "Episode finished after 73 episodes\n",
      "Episode finished after 74 episodes\n",
      "Episode finished after 75 episodes\n",
      "Episode finished after 76 episodes\n",
      "Episode finished after 77 episodes\n",
      "Episode finished after 78 episodes\n",
      "Episode finished after 79 episodes\n",
      "Episode finished after 80 episodes\n",
      "Episode finished after 81 episodes\n",
      "Episode finished after 82 episodes\n",
      "Episode finished after 83 episodes\n",
      "Episode finished after 84 episodes\n",
      "Episode finished after 85 episodes\n",
      "Episode finished after 86 episodes\n",
      "Episode finished after 87 episodes\n",
      "Episode finished after 88 episodes\n",
      "Episode finished after 89 episodes\n",
      "Episode finished after 90 episodes\n",
      "Episode finished after 91 episodes\n",
      "Episode finished after 92 episodes\n",
      "Episode finished after 93 episodes\n",
      "Episode finished after 94 episodes\n",
      "Episode finished after 95 episodes\n",
      "Episode finished after 96 episodes\n",
      "Episode finished after 97 episodes\n",
      "Episode finished after 98 episodes\n",
      "Episode finished after 99 episodes\n",
      "Episode finished after 100 episodes\n",
      "Episode finished after 101 episodes\n",
      "Episode finished after 102 episodes\n",
      "Episode finished after 103 episodes\n",
      "Episode finished after 104 episodes\n"
     ]
    },
    {
     "name": "stderr",
     "output_type": "stream",
     "text": [
      "[2017-08-06 15:55:13,880] Finished writing results. You can upload them to the scoreboard via gym.upload('/home/z0m6ie/Documents/deep-Q-learning/Pong-v0-1')\n",
      "[2017-08-06 15:55:13,897] [Pong-v0] Uploading 105 episodes of training data\n"
     ]
    },
    {
     "name": "stdout",
     "output_type": "stream",
     "text": [
      "Episode finished after 105 episodes\n"
     ]
    },
    {
     "name": "stderr",
     "output_type": "stream",
     "text": [
      "[2017-08-06 15:55:15,169] [Pong-v0] Uploading videos of 5 training episodes (256745 bytes)\n",
      "[2017-08-06 15:55:16,744] [Pong-v0] Creating evaluation object from Pong-v0-1 with learning curve and training video\n",
      "[2017-08-06 15:55:17,021] \n",
      "****************************************************\n",
      "You successfully uploaded your evaluation on Pong-v0 to\n",
      "OpenAI Gym! You can find it at:\n",
      "\n",
      "    https://gym.openai.com/evaluations/eval_3HMcLFwBRSuIXOJzUr8ow\n",
      "\n",
      "****************************************************\n"
     ]
    }
   ],
   "source": [
    "env = gym.make('Pong-v0')\n",
    "env.reset()\n",
    "env = wrappers.Monitor(env, 'Pong-v0-1', force=True)\n",
    "for i_episode in range(105):\n",
    "    observation = env.reset()\n",
    "    while (True):\n",
    "        env.render()\n",
    "        action = env.action_space.sample()\n",
    "        observation, reward, done, info = env.step(action)\n",
    "        if done:\n",
    "            print(\"Episode finished after {} episodes\".format(i_episode+1))\n",
    "            break\n",
    "\n",
    "env.close()\n",
    "gym.upload('Pong-v0-1', api_key='sk_WRCITkqmTJKYB9hvBk5tPA')"
   ]
  },
  {
   "cell_type": "code",
   "execution_count": 28,
   "metadata": {
    "collapsed": true
   },
   "outputs": [],
   "source": [
    "env.close()"
   ]
  },
  {
   "cell_type": "code",
   "execution_count": null,
   "metadata": {},
   "outputs": [],
   "source": [
    "from keras.models import Sequential\n",
    "\n",
    "model = Sequential()"
   ]
  },
  {
   "cell_type": "code",
   "execution_count": null,
   "metadata": {
    "collapsed": true
   },
   "outputs": [],
   "source": []
  }
 ],
 "metadata": {
  "kernelspec": {
   "display_name": "Python 3",
   "language": "python",
   "name": "python3"
  },
  "language_info": {
   "codemirror_mode": {
    "name": "ipython",
    "version": 3
   },
   "file_extension": ".py",
   "mimetype": "text/x-python",
   "name": "python",
   "nbconvert_exporter": "python",
   "pygments_lexer": "ipython3",
   "version": "3.6.1"
  }
 },
 "nbformat": 4,
 "nbformat_minor": 2
}
